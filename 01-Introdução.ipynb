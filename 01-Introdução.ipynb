{
 "cells": [
  {
   "cell_type": "markdown",
   "metadata": {
    "slideshow": {
     "slide_type": "slide"
    }
   },
   "source": [
    "# Introdução ao Jupyter Notebook\n",
    "\n",
    "## Luciano Ramalho\n",
    "\n",
    "## lramalho@thoughtworks.com"
   ]
  },
  {
   "cell_type": "markdown",
   "metadata": {
    "slideshow": {
     "slide_type": "slide"
    }
   },
   "source": [
    "Jupyter Notebook é uma ótima ferramenta para:\n",
    "\n",
    "* Ciência de dados;\n",
    "* Análise de dados de experimentos científicos (Scientific Computing)\n",
    "* Análise quantitativa de dados financeiros (Quantitative Analysis)\n",
    "* Exploração interativa de APIs;\n",
    "* Aprender Python, R, Julia e dezenas de outras linguagens suportadas\n",
    "\n",
    "O nome **Jupyter** é mistura de **Julia**, **Python** e **R**, as três primeiras linguagens suportadas depois que o projeto **iPython Notebook** passou a suportar *kernels* (núcleos de execução de código) em outras linguagens."
   ]
  },
  {
   "cell_type": "markdown",
   "metadata": {
    "slideshow": {
     "slide_type": "slide"
    }
   },
   "source": [
    "O Jupyter é um aplicativo que permite ver e editar documentos interativos chamados *notebooks*, assim como o Excel é um aplicativo para ver editar documentos interativos chamados *planilhas*.\n",
    "\n",
    "Um notebook é composto de células com texto, código e imagens. Você está lendo agora uma célula de texto. A seguir temos uma célula de código:"
   ]
  },
  {
   "cell_type": "code",
   "execution_count": null,
   "metadata": {
    "collapsed": true,
    "slideshow": {
     "slide_type": "fragment"
    }
   },
   "outputs": [],
   "source": [
    "def fatorial(n):\n",
    "    return 1 if n < 2 else n * fatorial(n-1)\n",
    "\n",
    "fatorial(42)"
   ]
  },
  {
   "cell_type": "markdown",
   "metadata": {
    "slideshow": {
     "slide_type": "slide"
    }
   },
   "source": [
    "Como você viu, uma célula de código pode ter várias linhas de código em Python (ou de outra linguagem suportada), incluindo definições de funções e classes. Muitas vezes uma célula tem apenas uma linha, apenas para fazer um cálculo: "
   ]
  },
  {
   "cell_type": "code",
   "execution_count": null,
   "metadata": {
    "collapsed": true,
    "slideshow": {
     "slide_type": "fragment"
    }
   },
   "outputs": [],
   "source": [
    "3**1000"
   ]
  },
  {
   "cell_type": "markdown",
   "metadata": {
    "slideshow": {
     "slide_type": "slide"
    }
   },
   "source": [
    "O notebook é dinâmico porque todas as células são editáveis. Experimente clicar na célula acima e alterar o expoente de 100 para 1000. Depois de editar, tecle [SHIFT]+[RETURN] para executar o código.\n",
    "\n",
    "> **Atenção**: se você está vendo este notebook online é provável que você não tenha permissão para editá-lo. Para editar você precisa instalar o Jupyter Notebook em seu computador e executar este documento localmente.\n",
    "\n",
    "Além de ser um aplicativo, Jupyter é uma plataforma que inclui bibliotecas muito poderosas. Por exemplo, com uma chamada de função é possível embutir uma página Web em um notebook:"
   ]
  },
  {
   "cell_type": "code",
   "execution_count": null,
   "metadata": {
    "collapsed": true,
    "scrolled": true,
    "slideshow": {
     "slide_type": "slide"
    }
   },
   "outputs": [],
   "source": [
    "from IPython.display import IFrame\n",
    "IFrame('http://jupyter.org/', width='100%', height=400)"
   ]
  },
  {
   "cell_type": "markdown",
   "metadata": {},
   "source": [
    "Também é fácil gerar gráficos, usando o *comando mágico* `%matplotlib inline` e funções da biblioteca **matplotlib**:"
   ]
  },
  {
   "cell_type": "code",
   "execution_count": null,
   "metadata": {
    "collapsed": true,
    "slideshow": {
     "slide_type": "slide"
    }
   },
   "outputs": [],
   "source": [
    "%matplotlib inline\n",
    "# use o comando acima só uma vez, para configurar a exibição dos gráficos\n",
    "import matplotlib.pyplot as plt\n",
    "plt.plot([1, 2, 4, 8, 16])\n",
    "plt.ylabel('litros de sorvete')\n",
    "plt.show()"
   ]
  },
  {
   "cell_type": "markdown",
   "metadata": {
    "slideshow": {
     "slide_type": "slide"
    }
   },
   "source": [
    "## Para aprender mais\n",
    "\n",
    "Sites principais:\n",
    "\n",
    "* Jupyter Notebook\n",
    "* iPython, que fornece os *kernels* para usar Python 2 ou Python 3 no Jupyter\n",
    "* pandas\n",
    "* matplotlib\n",
    "* NumPy e SciPy"
   ]
  }
 ],
 "metadata": {
  "celltoolbar": "Slideshow",
  "kernelspec": {
   "display_name": "Python 3",
   "language": "python",
   "name": "python3"
  },
  "language_info": {
   "codemirror_mode": {
    "name": "ipython",
    "version": 3
   },
   "file_extension": ".py",
   "mimetype": "text/x-python",
   "name": "python",
   "nbconvert_exporter": "python",
   "pygments_lexer": "ipython3",
   "version": "3.6.1"
  }
 },
 "nbformat": 4,
 "nbformat_minor": 1
}
