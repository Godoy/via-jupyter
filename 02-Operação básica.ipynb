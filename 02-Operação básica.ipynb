{
 "cells": [
  {
   "cell_type": "markdown",
   "metadata": {},
   "source": [
    "# Operação básica do Jupyter Notebook"
   ]
  },
  {
   "cell_type": "markdown",
   "metadata": {},
   "source": [
    "## Início\n",
    "\n",
    "```\n",
    "$ jupyter notebook .  # navegar a partir do diretório atual\n",
    "```\n",
    "\n",
    "ou\n",
    "\n",
    "```\n",
    "$ jupyter notebook Meu_Notebook.ipynb  # abrir um notebook específico\n",
    "```"
   ]
  },
  {
   "cell_type": "markdown",
   "metadata": {},
   "source": [
    "## Faça o passeio pela interface\n",
    "\n",
    "Menu **Help → User Interface Tour**\n",
    "\n",
    "## Menus e barra de ferramentas\n",
    "\n",
    "Explore os menus e coloque o mouse sobre os ícones da barra de ferramentas para ver as *tool tips* (dicas de uso)."
   ]
  },
  {
   "cell_type": "markdown",
   "metadata": {},
   "source": [
    "## Atalhos de teclado\n",
    "\n",
    "Menu **Help → Keyboard Shortcuts**\n",
    "\n",
    "Pegue o PDF ou imagem disponível no [repositório deste notebook](https://github.com/dadosprobr/via-jupyter/tree/master/atalhos).\n",
    "\n",
    "\n"
   ]
  },
  {
   "cell_type": "markdown",
   "metadata": {},
   "source": [
    "## Leia mais\n",
    "\n",
    "* [Notebook Basics](http://nbviewer.jupyter.org/github/jupyter/notebook/blob/master/docs/source/examples/Notebook/Notebook%20Basics.ipynb)"
   ]
  },
  {
   "cell_type": "code",
   "execution_count": null,
   "metadata": {
    "collapsed": true
   },
   "outputs": [],
   "source": []
  }
 ],
 "metadata": {
  "kernelspec": {
   "display_name": "Python 3",
   "language": "python",
   "name": "python3"
  },
  "language_info": {
   "codemirror_mode": {
    "name": "ipython",
    "version": 3
   },
   "file_extension": ".py",
   "mimetype": "text/x-python",
   "name": "python",
   "nbconvert_exporter": "python",
   "pygments_lexer": "ipython3",
   "version": "3.6.1"
  }
 },
 "nbformat": 4,
 "nbformat_minor": 2
}
