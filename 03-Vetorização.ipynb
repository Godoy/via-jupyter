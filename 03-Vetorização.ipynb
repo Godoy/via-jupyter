{
 "cells": [
  {
   "cell_type": "markdown",
   "metadata": {},
   "source": [
    "# Computação vetorizada com NumPy\n",
    "\n",
    "Exemplo adaptado de Nicolas P. Rougier em [From Python to Numpy](http://www.labri.fr/perso/nrougier/from-python-to-numpy/)\n",
    "\n",
    "## Random walk: solução OO"
   ]
  },
  {
   "cell_type": "code",
   "execution_count": 1,
   "metadata": {
    "collapsed": true
   },
   "outputs": [],
   "source": [
    "import random\n",
    "\n",
    "class RandomWalker:\n",
    "    def __init__(self):\n",
    "        self.position = 0\n",
    "        self.path = []\n",
    "\n",
    "    def step(self):\n",
    "        self.position += random.choice([-1, 1])\n",
    "        self.path.append(self.position)\n",
    "    \n",
    "    def walk(self, steps):\n",
    "        for _ in range(steps):\n",
    "            self.step()\n",
    "        return self.path"
   ]
  },
  {
   "cell_type": "code",
   "execution_count": 2,
   "metadata": {
    "collapsed": true
   },
   "outputs": [],
   "source": [
    "%matplotlib inline\n",
    "import matplotlib.pyplot as plt"
   ]
  },
  {
   "cell_type": "code",
   "execution_count": 3,
   "metadata": {},
   "outputs": [
    {
     "data": {
      "image/png": "[encoded data removed]",
      "text/plain": [
       "<matplotlib.figure.Figure at 0x10e1fe908>"
      ]
     },
     "metadata": {},
     "output_type": "display_data"
    }
   ],
   "source": [
    "walker = RandomWalker()\n",
    "plt.plot(walker.walk(1000))\n",
    "plt.show()"
   ]
  },
  {
   "cell_type": "code",
   "execution_count": 4,
   "metadata": {},
   "outputs": [
    {
     "name": "stdout",
     "output_type": "stream",
     "text": [
      "1000 loops, best of 3: 1.63 ms per loop\n"
     ]
    }
   ],
   "source": [
    "%%timeit -n 1000\n",
    "walker.walk(1000)"
   ]
  },
  {
   "cell_type": "markdown",
   "metadata": {},
   "source": [
    "### Random Walk: solução procedural"
   ]
  },
  {
   "cell_type": "code",
   "execution_count": 5,
   "metadata": {
    "collapsed": true
   },
   "outputs": [],
   "source": [
    "def random_walk(n):\n",
    "    position = 0\n",
    "    walk = [position]\n",
    "    for i in range(n):\n",
    "        position += random.choice([-1, 1])\n",
    "        walk.append(position)\n",
    "    return walk"
   ]
  },
  {
   "cell_type": "code",
   "execution_count": 6,
   "metadata": {},
   "outputs": [
    {
     "name": "stdout",
     "output_type": "stream",
     "text": [
      "1000 loops, best of 3: 1.35 ms per loop\n"
     ]
    }
   ],
   "source": [
    "%%timeit -n 1000\n",
    "walk = random_walk(1000)"
   ]
  },
  {
   "cell_type": "markdown",
   "metadata": {},
   "source": [
    "### Random Walk: solução vetorizada com `itertools`"
   ]
  },
  {
   "cell_type": "code",
   "execution_count": 7,
   "metadata": {},
   "outputs": [
    {
     "data": {
      "text/plain": [
       "<itertools.accumulate at 0x10e1fc1c8>"
      ]
     },
     "execution_count": 7,
     "metadata": {},
     "output_type": "execute_result"
    }
   ],
   "source": [
    "from itertools import accumulate\n",
    "accumulate([1,2,3,4,5])"
   ]
  },
  {
   "cell_type": "code",
   "execution_count": 8,
   "metadata": {},
   "outputs": [
    {
     "data": {
      "text/plain": [
       "[1, 3, 6, 10, 15]"
      ]
     },
     "execution_count": 8,
     "metadata": {},
     "output_type": "execute_result"
    }
   ],
   "source": [
    "list(_)"
   ]
  },
  {
   "cell_type": "code",
   "execution_count": 9,
   "metadata": {
    "collapsed": true
   },
   "outputs": [],
   "source": [
    "def random_walk_itertools(n):\n",
    "    steps = random.choices([-1, 1], k=n)  # choice plural, Py ≥ 3.6\n",
    "    return [0]+list(accumulate(steps))"
   ]
  },
  {
   "cell_type": "code",
   "execution_count": 10,
   "metadata": {},
   "outputs": [
    {
     "name": "stdout",
     "output_type": "stream",
     "text": [
      "1000 loops, best of 3: 325 µs per loop\n"
     ]
    }
   ],
   "source": [
    "%%timeit -n 1000\n",
    "walk = random_walk_itertools(1000)"
   ]
  },
  {
   "cell_type": "markdown",
   "metadata": {},
   "source": [
    "### Random Walk: solução vetorizada com NumPy"
   ]
  },
  {
   "cell_type": "code",
   "execution_count": 11,
   "metadata": {
    "collapsed": true
   },
   "outputs": [],
   "source": [
    "import numpy as np\n",
    "\n",
    "def random_walk_numpy(n):\n",
    "    steps = np.random.choice([-1, 1], n)  # choice singular!\n",
    "    return np.cumsum(steps)"
   ]
  },
  {
   "cell_type": "code",
   "execution_count": 12,
   "metadata": {},
   "outputs": [
    {
     "name": "stdout",
     "output_type": "stream",
     "text": [
      "1000 loops, best of 3: 31.1 µs per loop\n"
     ]
    }
   ],
   "source": [
    "%%timeit -n 1000\n",
    "walk = random_walk_numpy(1000)"
   ]
  },
  {
   "cell_type": "code",
   "execution_count": 13,
   "metadata": {},
   "outputs": [
    {
     "data": {
      "image/png": "[encoded data removed]",
      "text/plain": [
       "<matplotlib.figure.Figure at 0x11163d6d8>"
      ]
     },
     "metadata": {},
     "output_type": "display_data"
    }
   ],
   "source": [
    "plt.plot(random_walk_numpy(1000))\n",
    "plt.show()"
   ]
  },
  {
   "cell_type": "markdown",
   "metadata": {},
   "source": [
    "## Comparando desempenhos"
   ]
  },
  {
   "cell_type": "code",
   "execution_count": 14,
   "metadata": {
    "collapsed": true
   },
   "outputs": [],
   "source": [
    "from timeit import timeit\n",
    "\n",
    "def cronometrar(expr, vezes=1000):\n",
    "    return timeit(expr, globals=globals(), number=vezes) / vezes\n",
    "     \n",
    "casos = ['RandomWalker().walk(1000)',\n",
    "          'random_walk(1000)',\n",
    "          'random_walk_itertools(1000)',\n",
    "          'random_walk_numpy(1000)',\n",
    "         ]"
   ]
  },
  {
   "cell_type": "code",
   "execution_count": 15,
   "metadata": {},
   "outputs": [
    {
     "name": "stdout",
     "output_type": "stream",
     "text": [
      "0.001780s\tRandomWalker().walk(1000)\n",
      "0.001355s\trandom_walk(1000)\n",
      "0.000339s\trandom_walk_itertools(1000)\n",
      "0.000035s\trandom_walk_numpy(1000)\n"
     ]
    }
   ],
   "source": [
    "tempos = []\n",
    "for caso in casos:\n",
    "    t = cronometrar(caso)\n",
    "    print(f'{t:07f}s', caso, sep='\\t')\n",
    "    tempos.append(t)"
   ]
  },
  {
   "cell_type": "code",
   "execution_count": 16,
   "metadata": {
    "scrolled": true
   },
   "outputs": [
    {
     "data": {
      "image/png": "[encoded data removed]",
      "text/plain": [
       "<matplotlib.figure.Figure at 0x116cd05c0>"
      ]
     },
     "metadata": {},
     "output_type": "display_data"
    }
   ],
   "source": [
    "fig, ax = plt.subplots()\n",
    "posições = np.arange(len(casos))\n",
    "ax.barh(posições, tempos)\n",
    "ax.set_yticks(posições)\n",
    "ax.set_yticklabels(casos)\n",
    "plt.show()"
   ]
  },
  {
   "cell_type": "markdown",
   "metadata": {},
   "source": [
    "## Referências\n",
    "\n",
    "* [From Python to Numpy](http://www.labri.fr/perso/nrougier/from-python-to-numpy/) (veja também a [bibliografia](http://www.labri.fr/perso/nrougier/from-python-to-numpy/#bibliography) deste livro livre)\n",
    "   \n",
    "* StackExchange: [How do I move away from the “for-loop” school of thought?](https://softwareengineering.stackexchange.com/questions/254475/how-do-i-move-away-from-the-for-loop-school-of-thought)"
   ]
  }
 ],
 "metadata": {
  "kernelspec": {
   "display_name": "Python 3",
   "language": "python",
   "name": "python3"
  },
  "language_info": {
   "codemirror_mode": {
    "name": "ipython",
    "version": 3
   },
   "file_extension": ".py",
   "mimetype": "text/x-python",
   "name": "python",
   "nbconvert_exporter": "python",
   "pygments_lexer": "ipython3",
   "version": "3.6.1"
  }
 },
 "nbformat": 4,
 "nbformat_minor": 2
}
